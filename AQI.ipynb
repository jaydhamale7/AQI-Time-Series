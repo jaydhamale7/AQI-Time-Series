{
  "nbformat": 4,
  "nbformat_minor": 0,
  "metadata": {
    "colab": {
      "name": "AQI.ipynb",
      "provenance": []
    },
    "kernelspec": {
      "name": "python3",
      "display_name": "Python 3"
    },
    "accelerator": "GPU"
  },
  "cells": [
    {
      "cell_type": "markdown",
      "metadata": {
        "id": "C24z5dTW9Itq"
      },
      "source": [
        "Load Dataset"
      ]
    },
    {
      "cell_type": "code",
      "metadata": {
        "id": "G9jI9PxsHCeP"
      },
      "source": [
        "import pandas as pd\n",
        "import numpy as np"
      ],
      "execution_count": null,
      "outputs": []
    },
    {
      "cell_type": "code",
      "metadata": {
        "id": "qX9TViIjHOZr"
      },
      "source": [
        "train = pd.read_excel('train1.xlsx')\n",
        "test = pd.read_excel('test1.xlsx')"
      ],
      "execution_count": null,
      "outputs": []
    },
    {
      "cell_type": "code",
      "metadata": {
        "colab": {
          "base_uri": "https://localhost:8080/",
          "height": 198
        },
        "id": "SORFx-R2Hbrn",
        "outputId": "223c9ee8-7a12-40e7-b758-5523c59df8b1"
      },
      "source": [
        "train.head()"
      ],
      "execution_count": null,
      "outputs": [
        {
          "output_type": "execute_result",
          "data": {
            "text/html": [
              "<div>\n",
              "<style scoped>\n",
              "    .dataframe tbody tr th:only-of-type {\n",
              "        vertical-align: middle;\n",
              "    }\n",
              "\n",
              "    .dataframe tbody tr th {\n",
              "        vertical-align: top;\n",
              "    }\n",
              "\n",
              "    .dataframe thead th {\n",
              "        text-align: right;\n",
              "    }\n",
              "</style>\n",
              "<table border=\"1\" class=\"dataframe\">\n",
              "  <thead>\n",
              "    <tr style=\"text-align: right;\">\n",
              "      <th></th>\n",
              "      <th>Data</th>\n",
              "      <th>AQI</th>\n",
              "    </tr>\n",
              "  </thead>\n",
              "  <tbody>\n",
              "    <tr>\n",
              "      <th>0</th>\n",
              "      <td>2018-01-01 00:00:00</td>\n",
              "      <td>87.0</td>\n",
              "    </tr>\n",
              "    <tr>\n",
              "      <th>1</th>\n",
              "      <td>2018-01-01 01:00:00</td>\n",
              "      <td>85.0</td>\n",
              "    </tr>\n",
              "    <tr>\n",
              "      <th>2</th>\n",
              "      <td>2018-01-01 02:00:00</td>\n",
              "      <td>85.0</td>\n",
              "    </tr>\n",
              "    <tr>\n",
              "      <th>3</th>\n",
              "      <td>2018-01-01 03:00:00</td>\n",
              "      <td>98.0</td>\n",
              "    </tr>\n",
              "    <tr>\n",
              "      <th>4</th>\n",
              "      <td>2018-01-01 04:00:00</td>\n",
              "      <td>85.0</td>\n",
              "    </tr>\n",
              "  </tbody>\n",
              "</table>\n",
              "</div>"
            ],
            "text/plain": [
              "                 Data   AQI\n",
              "0 2018-01-01 00:00:00  87.0\n",
              "1 2018-01-01 01:00:00  85.0\n",
              "2 2018-01-01 02:00:00  85.0\n",
              "3 2018-01-01 03:00:00  98.0\n",
              "4 2018-01-01 04:00:00  85.0"
            ]
          },
          "metadata": {
            "tags": []
          },
          "execution_count": 45
        }
      ]
    },
    {
      "cell_type": "code",
      "metadata": {
        "colab": {
          "base_uri": "https://localhost:8080/",
          "height": 198
        },
        "id": "OHbfhz4b6VaO",
        "outputId": "74301e4b-9f72-43f1-e7e1-bf8c25580f80"
      },
      "source": [
        "test.head()"
      ],
      "execution_count": null,
      "outputs": [
        {
          "output_type": "execute_result",
          "data": {
            "text/html": [
              "<div>\n",
              "<style scoped>\n",
              "    .dataframe tbody tr th:only-of-type {\n",
              "        vertical-align: middle;\n",
              "    }\n",
              "\n",
              "    .dataframe tbody tr th {\n",
              "        vertical-align: top;\n",
              "    }\n",
              "\n",
              "    .dataframe thead th {\n",
              "        text-align: right;\n",
              "    }\n",
              "</style>\n",
              "<table border=\"1\" class=\"dataframe\">\n",
              "  <thead>\n",
              "    <tr style=\"text-align: right;\">\n",
              "      <th></th>\n",
              "      <th>Data</th>\n",
              "      <th>AQI</th>\n",
              "    </tr>\n",
              "  </thead>\n",
              "  <tbody>\n",
              "    <tr>\n",
              "      <th>0</th>\n",
              "      <td>2020-05-01 00:00:00</td>\n",
              "      <td>48.0</td>\n",
              "    </tr>\n",
              "    <tr>\n",
              "      <th>1</th>\n",
              "      <td>2020-05-01 01:00:00</td>\n",
              "      <td>48.0</td>\n",
              "    </tr>\n",
              "    <tr>\n",
              "      <th>2</th>\n",
              "      <td>2020-05-01 02:00:00</td>\n",
              "      <td>48.0</td>\n",
              "    </tr>\n",
              "    <tr>\n",
              "      <th>3</th>\n",
              "      <td>2020-05-01 03:00:00</td>\n",
              "      <td>48.0</td>\n",
              "    </tr>\n",
              "    <tr>\n",
              "      <th>4</th>\n",
              "      <td>2020-05-01 04:00:00</td>\n",
              "      <td>49.0</td>\n",
              "    </tr>\n",
              "  </tbody>\n",
              "</table>\n",
              "</div>"
            ],
            "text/plain": [
              "                 Data   AQI\n",
              "0 2020-05-01 00:00:00  48.0\n",
              "1 2020-05-01 01:00:00  48.0\n",
              "2 2020-05-01 02:00:00  48.0\n",
              "3 2020-05-01 03:00:00  48.0\n",
              "4 2020-05-01 04:00:00  49.0"
            ]
          },
          "metadata": {
            "tags": []
          },
          "execution_count": 46
        }
      ]
    },
    {
      "cell_type": "markdown",
      "metadata": {
        "id": "GAPK74R49S_x"
      },
      "source": [
        "Fill Missing Values"
      ]
    },
    {
      "cell_type": "code",
      "metadata": {
        "colab": {
          "base_uri": "https://localhost:8080/"
        },
        "id": "unVd-rbe7H4q",
        "outputId": "8d09f5a4-685b-4ce9-b7cf-fbf85af07963"
      },
      "source": [
        "train.isnull().sum()"
      ],
      "execution_count": null,
      "outputs": [
        {
          "output_type": "execute_result",
          "data": {
            "text/plain": [
              "Data      0\n",
              "AQI     983\n",
              "dtype: int64"
            ]
          },
          "metadata": {
            "tags": []
          },
          "execution_count": 41
        }
      ]
    },
    {
      "cell_type": "code",
      "metadata": {
        "colab": {
          "base_uri": "https://localhost:8080/"
        },
        "id": "ELVmzYa57U5G",
        "outputId": "7e629a8a-5c20-480c-c3b0-bfc874af33a3"
      },
      "source": [
        "test.isnull().sum()"
      ],
      "execution_count": null,
      "outputs": [
        {
          "output_type": "execute_result",
          "data": {
            "text/plain": [
              "Data      0\n",
              "AQI     210\n",
              "dtype: int64"
            ]
          },
          "metadata": {
            "tags": []
          },
          "execution_count": 47
        }
      ]
    },
    {
      "cell_type": "code",
      "metadata": {
        "id": "cT_YQ5Oo4PiK"
      },
      "source": [
        "train = train.interpolate(method ='linear', limit_direction ='forward')\r\n",
        "test = test.interpolate(method ='linear', limit_direction ='forward')"
      ],
      "execution_count": null,
      "outputs": []
    },
    {
      "cell_type": "code",
      "metadata": {
        "colab": {
          "base_uri": "https://localhost:8080/",
          "height": 288
        },
        "id": "sUjx45EWb_8w",
        "outputId": "63f66892-c4fb-47e2-dac4-18c1a2778724"
      },
      "source": [
        "train.describe()"
      ],
      "execution_count": null,
      "outputs": [
        {
          "output_type": "execute_result",
          "data": {
            "text/html": [
              "<div>\n",
              "<style scoped>\n",
              "    .dataframe tbody tr th:only-of-type {\n",
              "        vertical-align: middle;\n",
              "    }\n",
              "\n",
              "    .dataframe tbody tr th {\n",
              "        vertical-align: top;\n",
              "    }\n",
              "\n",
              "    .dataframe thead th {\n",
              "        text-align: right;\n",
              "    }\n",
              "</style>\n",
              "<table border=\"1\" class=\"dataframe\">\n",
              "  <thead>\n",
              "    <tr style=\"text-align: right;\">\n",
              "      <th></th>\n",
              "      <th>AQI</th>\n",
              "    </tr>\n",
              "  </thead>\n",
              "  <tbody>\n",
              "    <tr>\n",
              "      <th>count</th>\n",
              "      <td>20424.000000</td>\n",
              "    </tr>\n",
              "    <tr>\n",
              "      <th>mean</th>\n",
              "      <td>103.277247</td>\n",
              "    </tr>\n",
              "    <tr>\n",
              "      <th>std</th>\n",
              "      <td>45.965324</td>\n",
              "    </tr>\n",
              "    <tr>\n",
              "      <th>min</th>\n",
              "      <td>16.000000</td>\n",
              "    </tr>\n",
              "    <tr>\n",
              "      <th>25%</th>\n",
              "      <td>70.000000</td>\n",
              "    </tr>\n",
              "    <tr>\n",
              "      <th>50%</th>\n",
              "      <td>90.000000</td>\n",
              "    </tr>\n",
              "    <tr>\n",
              "      <th>75%</th>\n",
              "      <td>125.000000</td>\n",
              "    </tr>\n",
              "    <tr>\n",
              "      <th>max</th>\n",
              "      <td>487.000000</td>\n",
              "    </tr>\n",
              "  </tbody>\n",
              "</table>\n",
              "</div>"
            ],
            "text/plain": [
              "                AQI\n",
              "count  20424.000000\n",
              "mean     103.277247\n",
              "std       45.965324\n",
              "min       16.000000\n",
              "25%       70.000000\n",
              "50%       90.000000\n",
              "75%      125.000000\n",
              "max      487.000000"
            ]
          },
          "metadata": {
            "tags": []
          },
          "execution_count": 49
        }
      ]
    },
    {
      "cell_type": "code",
      "metadata": {
        "colab": {
          "base_uri": "https://localhost:8080/",
          "height": 288
        },
        "id": "BVzb_Zxu7Zg8",
        "outputId": "30f946a3-e343-43cd-ac7f-85ecf620d979"
      },
      "source": [
        "test.describe()"
      ],
      "execution_count": null,
      "outputs": [
        {
          "output_type": "execute_result",
          "data": {
            "text/html": [
              "<div>\n",
              "<style scoped>\n",
              "    .dataframe tbody tr th:only-of-type {\n",
              "        vertical-align: middle;\n",
              "    }\n",
              "\n",
              "    .dataframe tbody tr th {\n",
              "        vertical-align: top;\n",
              "    }\n",
              "\n",
              "    .dataframe thead th {\n",
              "        text-align: right;\n",
              "    }\n",
              "</style>\n",
              "<table border=\"1\" class=\"dataframe\">\n",
              "  <thead>\n",
              "    <tr style=\"text-align: right;\">\n",
              "      <th></th>\n",
              "      <th>AQI</th>\n",
              "    </tr>\n",
              "  </thead>\n",
              "  <tbody>\n",
              "    <tr>\n",
              "      <th>count</th>\n",
              "      <td>2208.000000</td>\n",
              "    </tr>\n",
              "    <tr>\n",
              "      <th>mean</th>\n",
              "      <td>60.147192</td>\n",
              "    </tr>\n",
              "    <tr>\n",
              "      <th>std</th>\n",
              "      <td>35.554438</td>\n",
              "    </tr>\n",
              "    <tr>\n",
              "      <th>min</th>\n",
              "      <td>41.000000</td>\n",
              "    </tr>\n",
              "    <tr>\n",
              "      <th>25%</th>\n",
              "      <td>49.000000</td>\n",
              "    </tr>\n",
              "    <tr>\n",
              "      <th>50%</th>\n",
              "      <td>54.000000</td>\n",
              "    </tr>\n",
              "    <tr>\n",
              "      <th>75%</th>\n",
              "      <td>60.000000</td>\n",
              "    </tr>\n",
              "    <tr>\n",
              "      <th>max</th>\n",
              "      <td>464.000000</td>\n",
              "    </tr>\n",
              "  </tbody>\n",
              "</table>\n",
              "</div>"
            ],
            "text/plain": [
              "               AQI\n",
              "count  2208.000000\n",
              "mean     60.147192\n",
              "std      35.554438\n",
              "min      41.000000\n",
              "25%      49.000000\n",
              "50%      54.000000\n",
              "75%      60.000000\n",
              "max     464.000000"
            ]
          },
          "metadata": {
            "tags": []
          },
          "execution_count": 50
        }
      ]
    },
    {
      "cell_type": "code",
      "metadata": {
        "colab": {
          "base_uri": "https://localhost:8080/",
          "height": 283
        },
        "id": "IY--TbQaZx3r",
        "outputId": "7b79a519-915d-4d58-bc50-2d02df5c507e"
      },
      "source": [
        "train['AQI'].plot()"
      ],
      "execution_count": null,
      "outputs": [
        {
          "output_type": "execute_result",
          "data": {
            "text/plain": [
              "<matplotlib.axes._subplots.AxesSubplot at 0x7f0a894b2f98>"
            ]
          },
          "metadata": {
            "tags": []
          },
          "execution_count": 51
        },
        {
          "output_type": "display_data",
          "data": {
            "image/png": "[encoded data removed]",
            "text/plain": [
              "<Figure size 432x288 with 1 Axes>"
            ]
          },
          "metadata": {
            "tags": [],
            "needs_background": "light"
          }
        }
      ]
    },
    {
      "cell_type": "code",
      "metadata": {
        "colab": {
          "base_uri": "https://localhost:8080/",
          "height": 283
        },
        "id": "G7GPF1wu7dbS",
        "outputId": "8aede1b4-dfe7-4bc1-a3ea-483b6c015593"
      },
      "source": [
        "test['AQI'].plot()"
      ],
      "execution_count": null,
      "outputs": [
        {
          "output_type": "execute_result",
          "data": {
            "text/plain": [
              "<matplotlib.axes._subplots.AxesSubplot at 0x7f0a7845afd0>"
            ]
          },
          "metadata": {
            "tags": []
          },
          "execution_count": 52
        },
        {
          "output_type": "display_data",
          "data": {
            "image/png": "[encoded data removed]",
            "text/plain": [
              "<Figure size 432x288 with 1 Axes>"
            ]
          },
          "metadata": {
            "tags": [],
            "needs_background": "light"
          }
        }
      ]
    },
    {
      "cell_type": "markdown",
      "metadata": {
        "id": "gKrohAgW9Z_q"
      },
      "source": [
        "Scaling the data"
      ]
    },
    {
      "cell_type": "code",
      "metadata": {
        "id": "Z9HXOhKXl2yr"
      },
      "source": [
        "from sklearn.preprocessing import MinMaxScaler\r\n",
        "scaler = MinMaxScaler()"
      ],
      "execution_count": null,
      "outputs": []
    },
    {
      "cell_type": "code",
      "metadata": {
        "colab": {
          "base_uri": "https://localhost:8080/"
        },
        "id": "jh1Vd0ill2vc",
        "outputId": "dd36a439-30a6-436f-a5bd-0974e6ee37d9"
      },
      "source": [
        "scaler.fit(train[['AQI']])"
      ],
      "execution_count": null,
      "outputs": [
        {
          "output_type": "execute_result",
          "data": {
            "text/plain": [
              "MinMaxScaler(copy=True, feature_range=(0, 1))"
            ]
          },
          "metadata": {
            "tags": []
          },
          "execution_count": 55
        }
      ]
    },
    {
      "cell_type": "code",
      "metadata": {
        "id": "Uv-kSS1xl2q1"
      },
      "source": [
        "scaled_train = pd.DataFrame(scaler.transform(train[[\"AQI\"]]))"
      ],
      "execution_count": null,
      "outputs": []
    },
    {
      "cell_type": "code",
      "metadata": {
        "id": "1BTqaf5N7vDO"
      },
      "source": [
        "scaled_test = pd.DataFrame(scaler.transform(test[['AQI']]))"
      ],
      "execution_count": null,
      "outputs": []
    },
    {
      "cell_type": "markdown",
      "metadata": {
        "id": "16Bbodqyo0rb"
      },
      "source": [
        "Create Dataset"
      ]
    },
    {
      "cell_type": "code",
      "metadata": {
        "id": "NcoNtFsBDbO0"
      },
      "source": [
        "def prepare_data(data,n_features):\r\n",
        "  X, y, = [], []\r\n",
        "  for i in range(len(data)):\r\n",
        "    end = i + n_features\r\n",
        "    if end > len(data) - 1:\r\n",
        "      break\r\n",
        "    X.append(data[i:end])\r\n",
        "    y.append(data[end])\r\n",
        "  return np.array(X), np.array(y)"
      ],
      "execution_count": null,
      "outputs": []
    },
    {
      "cell_type": "code",
      "metadata": {
        "colab": {
          "base_uri": "https://localhost:8080/",
          "height": 198
        },
        "id": "ltrNsaCjwy2Y",
        "outputId": "84bcbd31-f842-4139-8977-b659d852f650"
      },
      "source": [
        "scaled_train.head()"
      ],
      "execution_count": null,
      "outputs": [
        {
          "output_type": "execute_result",
          "data": {
            "text/html": [
              "<div>\n",
              "<style scoped>\n",
              "    .dataframe tbody tr th:only-of-type {\n",
              "        vertical-align: middle;\n",
              "    }\n",
              "\n",
              "    .dataframe tbody tr th {\n",
              "        vertical-align: top;\n",
              "    }\n",
              "\n",
              "    .dataframe thead th {\n",
              "        text-align: right;\n",
              "    }\n",
              "</style>\n",
              "<table border=\"1\" class=\"dataframe\">\n",
              "  <thead>\n",
              "    <tr style=\"text-align: right;\">\n",
              "      <th></th>\n",
              "      <th>0</th>\n",
              "    </tr>\n",
              "  </thead>\n",
              "  <tbody>\n",
              "    <tr>\n",
              "      <th>0</th>\n",
              "      <td>0.150743</td>\n",
              "    </tr>\n",
              "    <tr>\n",
              "      <th>1</th>\n",
              "      <td>0.146497</td>\n",
              "    </tr>\n",
              "    <tr>\n",
              "      <th>2</th>\n",
              "      <td>0.146497</td>\n",
              "    </tr>\n",
              "    <tr>\n",
              "      <th>3</th>\n",
              "      <td>0.174098</td>\n",
              "    </tr>\n",
              "    <tr>\n",
              "      <th>4</th>\n",
              "      <td>0.146497</td>\n",
              "    </tr>\n",
              "  </tbody>\n",
              "</table>\n",
              "</div>"
            ],
            "text/plain": [
              "          0\n",
              "0  0.150743\n",
              "1  0.146497\n",
              "2  0.146497\n",
              "3  0.174098\n",
              "4  0.146497"
            ]
          },
          "metadata": {
            "tags": []
          },
          "execution_count": 59
        }
      ]
    },
    {
      "cell_type": "code",
      "metadata": {
        "id": "TCBf5qPt8NPv"
      },
      "source": [
        "scaled_train_list = list(scaled_train[0])"
      ],
      "execution_count": null,
      "outputs": []
    },
    {
      "cell_type": "code",
      "metadata": {
        "id": "csSpfHSxoz-r"
      },
      "source": [
        "X_train, y_train = prepare_data(scaled_train_list, 72)"
      ],
      "execution_count": null,
      "outputs": []
    },
    {
      "cell_type": "code",
      "metadata": {
        "colab": {
          "base_uri": "https://localhost:8080/"
        },
        "id": "UFGaCsvQoz8R",
        "outputId": "08815832-c045-4235-cf62-a4928a9f660b"
      },
      "source": [
        "X_train.shape,y_train.shape"
      ],
      "execution_count": null,
      "outputs": [
        {
          "output_type": "execute_result",
          "data": {
            "text/plain": [
              "((20352, 72), (20352,))"
            ]
          },
          "metadata": {
            "tags": []
          },
          "execution_count": 62
        }
      ]
    },
    {
      "cell_type": "code",
      "metadata": {
        "id": "ZBFcY9i8w-8Q"
      },
      "source": [
        "X_train = X_train.reshape(X_train.shape[0],X_train.shape[1],1)"
      ],
      "execution_count": null,
      "outputs": []
    },
    {
      "cell_type": "code",
      "metadata": {
        "colab": {
          "base_uri": "https://localhost:8080/"
        },
        "id": "fh5vD_uIxgvo",
        "outputId": "8ef7fa7b-ac91-42ab-84ec-d9597f0009ef"
      },
      "source": [
        "X_train.shape"
      ],
      "execution_count": null,
      "outputs": [
        {
          "output_type": "execute_result",
          "data": {
            "text/plain": [
              "(20352, 72, 1)"
            ]
          },
          "metadata": {
            "tags": []
          },
          "execution_count": 64
        }
      ]
    },
    {
      "cell_type": "markdown",
      "metadata": {
        "id": "q1Qbe3XqqZGo"
      },
      "source": [
        "## Model"
      ]
    },
    {
      "cell_type": "code",
      "metadata": {
        "id": "w78_SDqFoz1w"
      },
      "source": [
        "import tensorflow as tf\r\n",
        "from tensorflow.keras.models import Sequential\r\n",
        "from tensorflow.keras.layers import LSTM, Dense, Bidirectional, Flatten, Dropout"
      ],
      "execution_count": null,
      "outputs": []
    },
    {
      "cell_type": "code",
      "metadata": {
        "id": "XKUO9A24ozyh"
      },
      "source": [
        "model = Sequential()\r\n",
        "model.add(LSTM(100, return_sequences=True, input_shape=(72, 1)))\r\n",
        "model.add(Dropout(0.2))\r\n",
        "model.add(LSTM(100,return_sequences=True))\r\n",
        "model.add(Dropout(0.2))\r\n",
        "model.add(LSTM(100))\r\n",
        "model.add(Dropout(0.2))\r\n",
        "model.add(Dense(units=1))"
      ],
      "execution_count": null,
      "outputs": []
    },
    {
      "cell_type": "code",
      "metadata": {
        "id": "tjKScFx-l2nI"
      },
      "source": [
        "# model.summary()\r\n",
        "model.compile(loss='mean_squared_error', optimizer='adam')"
      ],
      "execution_count": null,
      "outputs": []
    },
    {
      "cell_type": "code",
      "metadata": {
        "colab": {
          "base_uri": "https://localhost:8080/"
        },
        "id": "p6R_PUxP9w7i",
        "outputId": "1cd45a9b-cd8c-4a4c-cb2e-b9c690b02d6f"
      },
      "source": [
        " model.fit(\r\n",
        "    X_train, y_train,\r\n",
        "    epochs=30,\r\n",
        "    batch_size=128,\r\n",
        "    shuffle=False\r\n",
        ")"
      ],
      "execution_count": null,
      "outputs": [
        {
          "output_type": "stream",
          "text": [
            "Epoch 1/30\n",
            "159/159 [==============================] - 5s 15ms/step - loss: 0.0044\n",
            "Epoch 2/30\n",
            "159/159 [==============================] - 2s 14ms/step - loss: 0.0018\n",
            "Epoch 3/30\n",
            "159/159 [==============================] - 2s 14ms/step - loss: 0.0013\n",
            "Epoch 4/30\n",
            "159/159 [==============================] - 2s 14ms/step - loss: 9.3339e-04\n",
            "Epoch 5/30\n",
            "159/159 [==============================] - 2s 14ms/step - loss: 7.0410e-04\n",
            "Epoch 6/30\n",
            "159/159 [==============================] - 2s 14ms/step - loss: 6.0727e-04\n",
            "Epoch 7/30\n",
            "159/159 [==============================] - 2s 14ms/step - loss: 5.7796e-04\n",
            "Epoch 8/30\n",
            "159/159 [==============================] - 2s 14ms/step - loss: 5.3570e-04\n",
            "Epoch 9/30\n",
            "159/159 [==============================] - 2s 14ms/step - loss: 5.2208e-04\n",
            "Epoch 10/30\n",
            "159/159 [==============================] - 2s 14ms/step - loss: 4.9688e-04\n",
            "Epoch 11/30\n",
            "159/159 [==============================] - 2s 14ms/step - loss: 5.0411e-04\n",
            "Epoch 12/30\n",
            "159/159 [==============================] - 2s 14ms/step - loss: 4.7585e-04\n",
            "Epoch 13/30\n",
            "159/159 [==============================] - 2s 14ms/step - loss: 4.7328e-04\n",
            "Epoch 14/30\n",
            "159/159 [==============================] - 2s 14ms/step - loss: 4.6209e-04\n",
            "Epoch 15/30\n",
            "159/159 [==============================] - 2s 14ms/step - loss: 4.7447e-04\n",
            "Epoch 16/30\n",
            "159/159 [==============================] - 2s 14ms/step - loss: 4.8071e-04\n",
            "Epoch 17/30\n",
            "159/159 [==============================] - 2s 14ms/step - loss: 4.9384e-04\n",
            "Epoch 18/30\n",
            "159/159 [==============================] - 2s 14ms/step - loss: 4.6425e-04\n",
            "Epoch 19/30\n",
            "159/159 [==============================] - 2s 14ms/step - loss: 4.4784e-04\n",
            "Epoch 20/30\n",
            "159/159 [==============================] - 2s 14ms/step - loss: 4.7737e-04\n",
            "Epoch 21/30\n",
            "159/159 [==============================] - 2s 14ms/step - loss: 5.1000e-04\n",
            "Epoch 22/30\n",
            "159/159 [==============================] - 2s 14ms/step - loss: 4.5133e-04\n",
            "Epoch 23/30\n",
            "159/159 [==============================] - 2s 14ms/step - loss: 5.2499e-04\n",
            "Epoch 24/30\n",
            "159/159 [==============================] - 2s 14ms/step - loss: 4.2783e-04\n",
            "Epoch 25/30\n",
            "159/159 [==============================] - 2s 14ms/step - loss: 4.9473e-04\n",
            "Epoch 26/30\n",
            "159/159 [==============================] - 2s 14ms/step - loss: 4.5057e-04\n",
            "Epoch 27/30\n",
            "159/159 [==============================] - 2s 14ms/step - loss: 4.2229e-04\n",
            "Epoch 28/30\n",
            "159/159 [==============================] - 2s 14ms/step - loss: 4.5406e-04\n",
            "Epoch 29/30\n",
            "159/159 [==============================] - 2s 14ms/step - loss: 4.5078e-04\n",
            "Epoch 30/30\n",
            "159/159 [==============================] - 2s 14ms/step - loss: 4.6444e-04\n"
          ],
          "name": "stdout"
        },
        {
          "output_type": "execute_result",
          "data": {
            "text/plain": [
              "<tensorflow.python.keras.callbacks.History at 0x7f09dc5a2828>"
            ]
          },
          "metadata": {
            "tags": []
          },
          "execution_count": 72
        }
      ]
    },
    {
      "cell_type": "code",
      "metadata": {
        "id": "oXdRUgQJrGHU",
        "colab": {
          "base_uri": "https://localhost:8080/"
        },
        "outputId": "147fa52d-fece-4c3e-d800-e46eabc8d97c"
      },
      "source": [
        "model.history.history.keys()"
      ],
      "execution_count": null,
      "outputs": [
        {
          "output_type": "execute_result",
          "data": {
            "text/plain": [
              "dict_keys(['loss'])"
            ]
          },
          "metadata": {
            "tags": []
          },
          "execution_count": 73
        }
      ]
    },
    {
      "cell_type": "code",
      "metadata": {
        "id": "rUncM4PlEY4y"
      },
      "source": [
        "import matplotlib.pyplot as plt"
      ],
      "execution_count": null,
      "outputs": []
    },
    {
      "cell_type": "code",
      "metadata": {
        "colab": {
          "base_uri": "https://localhost:8080/",
          "height": 265
        },
        "id": "-yqDIPD1rGDF",
        "outputId": "73a4d77d-626a-408e-a217-18d3ae3da612"
      },
      "source": [
        "plt.plot(model.history.history[\"loss\"])\r\n",
        "# plt.plot(model.history.history[\"val_loss\"])\r\n",
        "plt.show()"
      ],
      "execution_count": null,
      "outputs": [
        {
          "output_type": "display_data",
          "data": {
            "image/png": "[encoded data removed]",
            "text/plain": [
              "<Figure size 432x288 with 1 Axes>"
            ]
          },
          "metadata": {
            "tags": [],
            "needs_background": "light"
          }
        }
      ]
    },
    {
      "cell_type": "markdown",
      "metadata": {
        "id": "Mfvjw8qSsAqd"
      },
      "source": [
        "## Prediction for Test Data"
      ]
    },
    {
      "cell_type": "code",
      "metadata": {
        "id": "CPmn4KM8-zUH"
      },
      "source": [
        "scaled_test_list = list(scaled_test[0])"
      ],
      "execution_count": null,
      "outputs": []
    },
    {
      "cell_type": "code",
      "metadata": {
        "id": "CLR20Ssq-zUd"
      },
      "source": [
        "X_test, y_test = prepare_data(scaled_test_list, 72)"
      ],
      "execution_count": null,
      "outputs": []
    },
    {
      "cell_type": "code",
      "metadata": {
        "colab": {
          "base_uri": "https://localhost:8080/"
        },
        "id": "tjwjGvbn-zUe",
        "outputId": "77f05eaa-1435-4da3-b7d7-8712db7c3954"
      },
      "source": [
        "X_test.shape,y_test.shape"
      ],
      "execution_count": null,
      "outputs": [
        {
          "output_type": "execute_result",
          "data": {
            "text/plain": [
              "((2136, 72), (2136,))"
            ]
          },
          "metadata": {
            "tags": []
          },
          "execution_count": 103
        }
      ]
    },
    {
      "cell_type": "code",
      "metadata": {
        "id": "0VhEWKPX-zUi"
      },
      "source": [
        "X_test = X_test.reshape(X_test.shape[0],X_test.shape[1],1)"
      ],
      "execution_count": null,
      "outputs": []
    },
    {
      "cell_type": "code",
      "metadata": {
        "colab": {
          "base_uri": "https://localhost:8080/"
        },
        "id": "_Me72R2m-zUi",
        "outputId": "261ecb4b-0cc7-430d-cbe7-a827ff3e0808"
      },
      "source": [
        "X_test.shape"
      ],
      "execution_count": null,
      "outputs": [
        {
          "output_type": "execute_result",
          "data": {
            "text/plain": [
              "(2136, 72, 1)"
            ]
          },
          "metadata": {
            "tags": []
          },
          "execution_count": 105
        }
      ]
    },
    {
      "cell_type": "code",
      "metadata": {
        "id": "G0Ebhn3n_GWe"
      },
      "source": [
        "y_pred = model.predict(X_test)"
      ],
      "execution_count": null,
      "outputs": []
    },
    {
      "cell_type": "code",
      "metadata": {
        "colab": {
          "base_uri": "https://localhost:8080/"
        },
        "id": "AmvfCJFk_LpE",
        "outputId": "83f2f387-0740-4117-8f44-9ec8ad533910"
      },
      "source": [
        "y_test"
      ],
      "execution_count": null,
      "outputs": [
        {
          "output_type": "execute_result",
          "data": {
            "text/plain": [
              "array([0.07430998, 0.07218684, 0.07218684, ..., 0.07643312, 0.07643312,\n",
              "       0.07643312])"
            ]
          },
          "metadata": {
            "tags": []
          },
          "execution_count": 107
        }
      ]
    },
    {
      "cell_type": "code",
      "metadata": {
        "id": "K1lNjG6o-rgB"
      },
      "source": [
        "from sklearn.metrics import mean_squared_error"
      ],
      "execution_count": null,
      "outputs": []
    },
    {
      "cell_type": "code",
      "metadata": {
        "id": "lzc39q5O_epr"
      },
      "source": [
        "y_test = scaler.inverse_transform([y_test])\r\n",
        "y_pred = scaler.inverse_transform(y_pred)"
      ],
      "execution_count": null,
      "outputs": []
    },
    {
      "cell_type": "code",
      "metadata": {
        "id": "o7iza7FY_5uz"
      },
      "source": [
        "y_test = y_test.reshape(-1,1)"
      ],
      "execution_count": null,
      "outputs": []
    },
    {
      "cell_type": "code",
      "metadata": {
        "colab": {
          "base_uri": "https://localhost:8080/"
        },
        "id": "2YupBa2__8dx",
        "outputId": "50699ca2-7657-4744-b609-7ae709f28910"
      },
      "source": [
        "y_pred.shape"
      ],
      "execution_count": null,
      "outputs": [
        {
          "output_type": "execute_result",
          "data": {
            "text/plain": [
              "(2136, 1)"
            ]
          },
          "metadata": {
            "tags": []
          },
          "execution_count": 114
        }
      ]
    },
    {
      "cell_type": "code",
      "metadata": {
        "colab": {
          "base_uri": "https://localhost:8080/"
        },
        "id": "6HFCJ0qm-rdN",
        "outputId": "4078a379-e1c0-4478-c02b-ac4815d23ae4"
      },
      "source": [
        "np.sqrt(mean_squared_error(y_test,y_pred))"
      ],
      "execution_count": null,
      "outputs": [
        {
          "output_type": "execute_result",
          "data": {
            "text/plain": [
              "5.223792358294444"
            ]
          },
          "metadata": {
            "tags": []
          },
          "execution_count": 117
        }
      ]
    },
    {
      "cell_type": "code",
      "metadata": {
        "colab": {
          "base_uri": "https://localhost:8080/"
        },
        "id": "XrsMlh_0-ra-",
        "outputId": "6556da38-cd17-48af-f911-82f519c7959e"
      },
      "source": [
        "y_test[-5:]"
      ],
      "execution_count": null,
      "outputs": [
        {
          "output_type": "execute_result",
          "data": {
            "text/plain": [
              "array([[51.],\n",
              "       [52.],\n",
              "       [52.],\n",
              "       [52.],\n",
              "       [52.]])"
            ]
          },
          "metadata": {
            "tags": []
          },
          "execution_count": 118
        }
      ]
    },
    {
      "cell_type": "code",
      "metadata": {
        "id": "n6Qow1N5AUdk",
        "colab": {
          "base_uri": "https://localhost:8080/"
        },
        "outputId": "0e618b42-2279-4cba-9428-db5360b639c7"
      },
      "source": [
        "y_pred[-5:]"
      ],
      "execution_count": null,
      "outputs": [
        {
          "output_type": "execute_result",
          "data": {
            "text/plain": [
              "array([[50.62891 ],\n",
              "       [50.866856],\n",
              "       [51.49966 ],\n",
              "       [51.95412 ],\n",
              "       [52.164692]], dtype=float32)"
            ]
          },
          "metadata": {
            "tags": []
          },
          "execution_count": 119
        }
      ]
    },
    {
      "cell_type": "code",
      "metadata": {
        "id": "ijTZCzMuAXtn"
      },
      "source": [
        ""
      ],
      "execution_count": null,
      "outputs": []
    }
  ]
}